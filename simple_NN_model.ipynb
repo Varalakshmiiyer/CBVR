{
 "cells": [
  {
   "cell_type": "markdown",
   "metadata": {
    "slideshow": {
     "slide_type": "slide"
    }
   },
   "source": [
    "# Exemplic Neural Network with 2 layers.\n",
    "\n",
    "This model has 2 layers - 1 input and 1 output layer. The input will be set of feature vector of images (here, 48 images (size: 500x400 approx)). Feature vector is tending to BTC(Block Truncation coding). The output layer will be trained set size similar to input number of images. The training process is done with activation function- sigmoid function which has unique property of differtiation and has range (-1,1)[This is weakness of function, which can be changed]. This model can be extended with layer augmentation(deep learning).\n",
    "\n",
    "Training process is step-wise process:\n",
    "\n",
    "1. Set weights to randomized across output size.\n",
    "\n",
    "2. Set output to zeros with input training size.\n",
    "\n",
    "3. For definite iterations:\n",
    "        i. set first layer to input training set i.e. feature vector set (This is forward propagation in layers)\n",
    "        ii. Using sigmoid function, calculate multiplication of layer1 and weight.\n",
    "        iii. Calculate error with respect to predicted output and find change in output with respect to error (layer2 delta).\n",
    "        iv. Update the weights with summation of product of input layer and layer2 delta. \n",
    "\n",
    "Link: https://en.wikibooks.org/wiki/Artificial_Neural_Networks/Activation_Functions\n",
    "\n",
    "Let us see python code."
   ]
  },
  {
   "cell_type": "code",
   "execution_count": 2,
   "metadata": {
    "collapsed": false,
    "scrolled": true,
    "slideshow": {
     "slide_type": "slide"
    }
   },
   "outputs": [
    {
     "name": "stdout",
     "output_type": "stream",
     "text": [
      "[array([[  5.56696425e-29],\n",
      "       [  1.97593607e-05],\n",
      "       [  1.26445420e-14],\n",
      "       [  2.32833116e-17],\n",
      "       [  3.07694498e-08],\n",
      "       [  4.58782374e-29],\n",
      "       [  1.69940771e-64],\n",
      "       [  4.52620598e-17],\n",
      "       [  3.69949184e-29],\n",
      "       [  5.65514558e-29],\n",
      "       [  1.89391949e-17],\n",
      "       [  4.93117224e-29],\n",
      "       [  1.23933008e-28],\n",
      "       [  2.20049901e-22],\n",
      "       [  1.37556311e-25],\n",
      "       [  4.89364761e-29],\n",
      "       [  5.75399800e-23],\n",
      "       [  4.33540381e-25],\n",
      "       [  7.37554174e-29],\n",
      "       [  1.61630347e-32],\n",
      "       [  2.13057224e-05],\n",
      "       [  9.52683994e-29],\n",
      "       [  1.59499210e-26],\n",
      "       [  1.00130933e-28],\n",
      "       [  4.33615611e-16],\n",
      "       [  2.08385840e-19],\n",
      "       [  8.16228343e-29],\n",
      "       [  7.32885407e-29],\n",
      "       [  6.11457702e-16],\n",
      "       [  3.49874180e-29],\n",
      "       [  5.66594203e-29],\n",
      "       [  5.00157965e-16],\n",
      "       [  4.32849407e-29],\n",
      "       [  4.83649296e-29],\n",
      "       [  3.54854752e-20],\n",
      "       [  1.22007917e-16],\n",
      "       [  3.77331623e-16],\n",
      "       [  9.64131040e-15],\n",
      "       [  1.34727049e-17],\n",
      "       [  7.00614839e-23],\n",
      "       [  7.77686415e-44],\n",
      "       [  1.86521859e-31],\n",
      "       [  1.49016386e-28],\n",
      "       [  6.40400511e-29],\n",
      "       [  1.37697536e-32],\n",
      "       [  1.65675110e-16],\n",
      "       [  1.36791063e-28],\n",
      "       [  3.24961459e-22]])]\n"
     ]
    }
   ],
   "source": [
    "# import and initialization.\n",
    "import cv2\n",
    "import os\n",
    "import numpy as np\n",
    "\n",
    "img_matrix = []\n",
    "fv =[]\n",
    "train_out = []\n",
    "\n",
    "#function reading image into 2-D matrix.\n",
    "def read_image():\n",
    "    global img_matrix\n",
    "    l1 = os.listdir('frames')\n",
    "    if len(l1)>0:\n",
    "        for name in l1:\n",
    "            img_matrix.append(cv2.imread('frames/'+name))\n",
    "\n",
    "#sigmoid function.\n",
    "def sigmoid(x,deriv=False):\n",
    "    if deriv == True:\n",
    "        return x*(1-x)\n",
    "    return 1/(1+np.exp(-x))\n",
    "\n",
    "#feature vector function.\n",
    "#here only mean of R,G,B spectral taken as feature vector. In next version, consider for this for BTC, TSTBTC etc.\n",
    "def set_fv():\n",
    "    global img_matrix,fv\n",
    "    for img in img_matrix:\n",
    "        fv.append([np.mean(img[:,:,0]),np.mean(img[:,:,1]),np.mean(img[:,:,2])]) \n",
    "        # input size is 48*3 as 48 is image used in data set and 3 for feature vector per image\n",
    "        \n",
    "# This section contains training function. \n",
    "def train_NN():\n",
    "    global fv,train_out\n",
    "    out = np.zeros((len(fv),1)) # We dont know about output so initialised to zero.\n",
    "    np.random.seed(1)\n",
    "    wt = 2*np.random.random((3,1)) - 1 # initialise weights to random numbers across input feature vector column size.\n",
    "    for i in range(len(img_matrix)): \n",
    "        for j in xrange(10000): # definite iterations for learning.\n",
    "            layer1_in = np.asarray(fv) # layer1 has 48x3 size\n",
    "            layer2_out = sigmoid(np.dot(layer1_in,wt)) #layer2 has 48x1 size as 48x3 dot product 3x1\n",
    "            layer2_err = out - layer2_out # error has 48x1 size\n",
    "            layer2_deriv = layer2_err*sigmoid(layer2_out,True) #delta change has size 48x1\n",
    "            wt += np.dot(layer1_in.T,layer2_deriv) #weight matrix calculation 3x48 dot product 48x1 \n",
    "    train_out.append(layer2_out)\n",
    "\n",
    "read_image()\n",
    "set_fv()\n",
    "train_NN()\n",
    "print train_out"
   ]
  },
  {
   "cell_type": "code",
   "execution_count": null,
   "metadata": {
    "collapsed": true
   },
   "outputs": [],
   "source": []
  }
 ],
 "metadata": {
  "kernelspec": {
   "display_name": "Python 2",
   "language": "python",
   "name": "python2"
  },
  "language_info": {
   "codemirror_mode": {
    "name": "ipython",
    "version": 2
   },
   "file_extension": ".py",
   "mimetype": "text/x-python",
   "name": "python",
   "nbconvert_exporter": "python",
   "pygments_lexer": "ipython2",
   "version": "2.7.11"
  }
 },
 "nbformat": 4,
 "nbformat_minor": 0
}
